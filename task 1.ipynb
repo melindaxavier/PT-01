{
  "nbformat": 4,
  "nbformat_minor": 0,
  "metadata": {
    "colab": {
      "private_outputs": true,
      "provenance": []
    },
    "kernelspec": {
      "name": "python3",
      "display_name": "Python 3"
    },
    "language_info": {
      "name": "python"
    }
  },
  "cells": [
    {
      "cell_type": "code",
      "execution_count": null,
      "metadata": {
        "id": "-DFNYLJmShZm"
      },
      "outputs": [],
      "source": []
    },
    {
      "cell_type": "code",
      "source": [
        "import matplotlib.pyplot as plt\n",
        "\n",
        "categories = ['Category A', 'Category B', 'Category C', 'Category D']\n",
        "values = [25, 40, 30, 45]\n",
        "ages = [23, 45, 56, 23, 45, 67, 34, 45, 23, 36, 23, 40, 56, 34, 22]\n",
        "\n",
        "plt.figure(figsize=(8, 6))\n",
        "plt.bar(categories, values, color='green')\n",
        "plt.xlabel('Categories')\n",
        "plt.ylabel('Frequency')\n",
        "plt.title('Distribution of Categories')\n",
        "plt.show()\n",
        "\n",
        "# Histogram for continuous variable\n",
        "# Assuming 'ages' is a list of age values\n",
        "plt.figure(figsize=(8, 6))\n",
        "plt.hist(ages, bins=10, color='orange', edgecolor='black')\n",
        "plt.xlabel('Age')\n",
        "plt.ylabel('Frequency')\n",
        "plt.title('Age Distribution')\n",
        "plt.show()"
      ],
      "metadata": {
        "id": "pdWXcq1gSiiG"
      },
      "execution_count": null,
      "outputs": []
    }
  ]
}